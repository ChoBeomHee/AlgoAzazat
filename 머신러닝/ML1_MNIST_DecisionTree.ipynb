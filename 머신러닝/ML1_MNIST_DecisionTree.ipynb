{
  "cells": [
    {
      "cell_type": "markdown",
      "metadata": {
        "id": "view-in-github",
        "colab_type": "text"
      },
      "source": [
        "<a href=\"https://colab.research.google.com/github/piriram/AlgoAzazat/blob/main/%08%EB%A8%B8%EC%8B%A0%EB%9F%AC%EB%8B%9D/ML1_MNIST_DecisionTree.ipynb\" target=\"_parent\"><img src=\"https://colab.research.google.com/assets/colab-badge.svg\" alt=\"Open In Colab\"/></a>"
      ]
    },
    {
      "cell_type": "code",
      "execution_count": 1,
      "metadata": {
        "id": "b-MHKK-hLvxs"
      },
      "outputs": [],
      "source": [
        "from torch.utils.data import DataLoader\n",
        "from torchvision import transforms, datasets \n",
        "import numpy as np\n",
        "from sklearn import svm\n",
        "from sklearn.metrics import accuracy_score \n",
        "from sklearn.tree import DecisionTreeClassifier \n",
        "from scipy.stats import randint\n",
        "from sklearn.model_selection import GridSearchCV"
      ]
    },
    {
      "cell_type": "code",
      "execution_count": 2,
      "metadata": {
        "id": "EiLjjZaAMBHy",
        "colab": {
          "base_uri": "https://localhost:8080/"
        },
        "outputId": "73ca708e-7048-4ed5-b9b8-021dd9a72695"
      },
      "outputs": [
        {
          "output_type": "stream",
          "name": "stdout",
          "text": [
            "Downloading http://yann.lecun.com/exdb/mnist/train-images-idx3-ubyte.gz\n",
            "Downloading http://yann.lecun.com/exdb/mnist/train-images-idx3-ubyte.gz to ./data/MNIST/raw/train-images-idx3-ubyte.gz\n"
          ]
        },
        {
          "output_type": "stream",
          "name": "stderr",
          "text": [
            "100%|██████████| 9912422/9912422 [00:00<00:00, 71880924.77it/s]\n"
          ]
        },
        {
          "output_type": "stream",
          "name": "stdout",
          "text": [
            "Extracting ./data/MNIST/raw/train-images-idx3-ubyte.gz to ./data/MNIST/raw\n",
            "\n",
            "Downloading http://yann.lecun.com/exdb/mnist/train-labels-idx1-ubyte.gz\n",
            "Downloading http://yann.lecun.com/exdb/mnist/train-labels-idx1-ubyte.gz to ./data/MNIST/raw/train-labels-idx1-ubyte.gz\n"
          ]
        },
        {
          "output_type": "stream",
          "name": "stderr",
          "text": [
            "100%|██████████| 28881/28881 [00:00<00:00, 86278984.21it/s]\n"
          ]
        },
        {
          "output_type": "stream",
          "name": "stdout",
          "text": [
            "Extracting ./data/MNIST/raw/train-labels-idx1-ubyte.gz to ./data/MNIST/raw\n",
            "\n",
            "Downloading http://yann.lecun.com/exdb/mnist/t10k-images-idx3-ubyte.gz\n",
            "Downloading http://yann.lecun.com/exdb/mnist/t10k-images-idx3-ubyte.gz to ./data/MNIST/raw/t10k-images-idx3-ubyte.gz\n"
          ]
        },
        {
          "output_type": "stream",
          "name": "stderr",
          "text": [
            "100%|██████████| 1648877/1648877 [00:00<00:00, 26370161.89it/s]\n"
          ]
        },
        {
          "output_type": "stream",
          "name": "stdout",
          "text": [
            "Extracting ./data/MNIST/raw/t10k-images-idx3-ubyte.gz to ./data/MNIST/raw\n",
            "\n",
            "Downloading http://yann.lecun.com/exdb/mnist/t10k-labels-idx1-ubyte.gz\n",
            "Downloading http://yann.lecun.com/exdb/mnist/t10k-labels-idx1-ubyte.gz to ./data/MNIST/raw/t10k-labels-idx1-ubyte.gz\n"
          ]
        },
        {
          "output_type": "stream",
          "name": "stderr",
          "text": [
            "100%|██████████| 4542/4542 [00:00<00:00, 2097613.83it/s]"
          ]
        },
        {
          "output_type": "stream",
          "name": "stdout",
          "text": [
            "Extracting ./data/MNIST/raw/t10k-labels-idx1-ubyte.gz to ./data/MNIST/raw\n",
            "\n"
          ]
        },
        {
          "output_type": "stream",
          "name": "stderr",
          "text": [
            "\n"
          ]
        }
      ],
      "source": [
        "\n",
        "# 학습 데이터와 테스트 데이터를 위한 전처리 방식 정의\n",
        "mnist_train_transform = transforms.Compose([transforms.ToTensor()])\n",
        "mnist_test_transform = transforms.Compose([transforms.ToTensor()])\n",
        "\n",
        "# MNIST 데이터셋을 다운로드하고 전처리 방식 적용하여 데이터셋을 만듦\n",
        "trainset_mnist = datasets.MNIST(root='./data', train=True, download=True, transform=mnist_train_transform)\n",
        "testset_mnist = datasets.MNIST(root='./data', train=False, download=True, transform=mnist_test_transform)\n",
        "\n",
        "# 데이터셋을 DataLoader에 넣어 데이터를 batch 단위로 불러옴\n",
        "MNIST_train = DataLoader(trainset_mnist, batch_size=32, shuffle=True, num_workers=2)\n",
        "MNIST_test = DataLoader(testset_mnist, batch_size=32, shuffle=False, num_workers=2)\n",
        "\n",
        "# MNIST 학습 데이터셋 이미지와 라벨 정보를 리스트에 담음\n",
        "MNIST_train_images = []\n",
        "MNIST_train_labels = []\n",
        "for batch in MNIST_train:\n",
        "    images, labels = batch\n",
        "    images_flat = images.view(images.shape[0], -1)\n",
        "    MNIST_train_images.append(images_flat.numpy())\n",
        "    MNIST_train_labels.append(labels.numpy())\n",
        "\n",
        "# MNIST 학습 데이터셋 이미지 리스트를 numpy 배열로 변환\n",
        "MNIST_train_images = np.vstack(MNIST_train_images)\n",
        "MNIST_train_labels = np.concatenate(MNIST_train_labels)\n",
        "\n",
        "# MNIST 테스트 데이터셋 이미지와 라벨 정보를 리스트에 담음\n",
        "MNIST_test_images = []\n",
        "MNIST_test_labels = []\n",
        "for batch in MNIST_test:\n",
        "    images, labels = batch\n",
        "    images_flat = images.view(images.shape[0], -1)\n",
        "    MNIST_test_images.append(images_flat.numpy())\n",
        "    MNIST_test_labels.append(labels.numpy())\n",
        "\n",
        "# MNIST 테스트 데이터셋 이미지 리스트를 numpy 배열로 변환\n",
        "MNIST_test_images = np.vstack(MNIST_test_images)\n",
        "MNIST_test_labels = np.concatenate(MNIST_test_labels)\n",
        "\n"
      ]
    },
    {
      "cell_type": "code",
      "execution_count": 3,
      "metadata": {
        "id": "3-GjCZyCNUxn"
      },
      "outputs": [],
      "source": [
        "# 의사 결정 트리 모델 생성 함수\n",
        "def decisionTree(max_depth):\n",
        "    dt_model = DecisionTreeClassifier(max_depth=max_depth)\n",
        "\n",
        "    # GridSearchCV를 사용해서 적절한 하이퍼 파라미터를 검색(교차 유효성 검사 k를 5로 설정)\n",
        "    params_grid = {\n",
        "        'min_samples_split': [2, 5, 10],\n",
        "        'min_samples_leaf': [1, 2, 4],\n",
        "        'max_leaf_nodes': [5, 10, None]\n",
        "    }\n",
        "    grid_search = GridSearchCV(dt_model, params_grid, cv=5, n_jobs=-1)\n",
        "    grid_search.fit(MNIST_train_images, MNIST_train_labels)\n",
        "\n",
        "\n",
        "    # 교육 데이터셋에 대한 정확도 계산\n",
        "    train_score = grid_search.score(MNIST_train_images, MNIST_train_labels)\n",
        "    print(\"Training set accuracy: \", train_score)\n",
        "\n",
        "    # 테스트 데이터셋에 대한 정확도 계산\n",
        "    test_score = grid_search.score(MNIST_test_images, MNIST_test_labels)\n",
        "    print(\"Test set accuracy: \", test_score)"
      ]
    },
    {
      "cell_type": "code",
      "execution_count": 4,
      "metadata": {
        "colab": {
          "base_uri": "https://localhost:8080/"
        },
        "id": "DGtQHbHfPpeZ",
        "outputId": "0a3777b4-c256-4edd-9077-01494566363b"
      },
      "outputs": [
        {
          "output_type": "stream",
          "name": "stdout",
          "text": [
            "Training set accuracy:  0.49151666666666666\n",
            "Test set accuracy:  0.4953\n"
          ]
        }
      ],
      "source": [
        "decisionTree(3)"
      ]
    },
    {
      "cell_type": "code",
      "execution_count": 5,
      "metadata": {
        "colab": {
          "base_uri": "https://localhost:8080/"
        },
        "id": "rAmdvCfJR5B3",
        "outputId": "e9d5440d-4e8c-4412-b8b3-362bb7c3c34f"
      },
      "outputs": [
        {
          "output_type": "stream",
          "name": "stdout",
          "text": [
            "Training set accuracy:  0.73825\n",
            "Test set accuracy:  0.7415\n"
          ]
        }
      ],
      "source": [
        "decisionTree(6)"
      ]
    },
    {
      "cell_type": "code",
      "execution_count": 6,
      "metadata": {
        "colab": {
          "base_uri": "https://localhost:8080/"
        },
        "id": "v1AFCacoSNBm",
        "outputId": "debed1fd-853f-40d5-a9e1-d415ba58c02b"
      },
      "outputs": [
        {
          "output_type": "stream",
          "name": "stdout",
          "text": [
            "Training set accuracy:  0.8661\n",
            "Test set accuracy:  0.8502\n"
          ]
        }
      ],
      "source": [
        "decisionTree(9)"
      ]
    },
    {
      "cell_type": "code",
      "execution_count": 7,
      "metadata": {
        "colab": {
          "base_uri": "https://localhost:8080/"
        },
        "id": "HjZnpQc9SN4D",
        "outputId": "b48b6208-a7c6-4d90-d6e8-859161cc414e"
      },
      "outputs": [
        {
          "output_type": "stream",
          "name": "stdout",
          "text": [
            "Training set accuracy:  0.9491666666666667\n",
            "Test set accuracy:  0.8798\n"
          ]
        }
      ],
      "source": [
        "decisionTree(12)"
      ]
    }
  ],
  "metadata": {
    "colab": {
      "provenance": [],
      "authorship_tag": "ABX9TyPFNadajuK63cS7NVKiEku8",
      "include_colab_link": true
    },
    "kernelspec": {
      "display_name": "Python 3",
      "name": "python3"
    },
    "language_info": {
      "name": "python"
    }
  },
  "nbformat": 4,
  "nbformat_minor": 0
}